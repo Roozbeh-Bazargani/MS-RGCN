{
 "cells": [
  {
   "cell_type": "markdown",
   "metadata": {
    "id": "vTApeE4tFuJO"
   },
   "source": [
    "# Params"
   ]
  },
  {
   "cell_type": "code",
   "execution_count": null,
   "metadata": {},
   "outputs": [],
   "source": [
    "import os\n",
    "os.environ[\"CUDA_DEVICE_ORDER\"] = \"PCI_BUS_ID\"\n",
    "os.environ[\"CUDA_VISIBLE_DEVICES\"] = \"5\""
   ]
  },
  {
   "cell_type": "code",
   "execution_count": null,
   "metadata": {
    "id": "h3Y-OP0ZJFke"
   },
   "outputs": [],
   "source": [
    "# device = 'cpu'\n",
    "# map_vpc = {'1': 0, '3': 1, '4': 2, '5': 3, '0': 4, '6': 5} # map labels: 1 = benign (0), we don't have 2, i = Gleason i (i-2) for i=[3:5]\n",
    "num_classes = 6\n",
    "batch_size = 8\n",
    "magnifications= [10, 20]\n",
    "patch_size = 512\n",
    "# stains = ['HnE']\n",
    "folds = ['fold1']\n",
    "\n",
    "path_model = 'model_VPC_Zurich/' #+ str(magnification) + '/' + fold + '/aug_model'\n",
    "model_name = '256_aug_model'\n",
    "\n",
    "path_embeddings = '256_VPC_Zurich_embeddings_overlap/'\n",
    "path_VPC = '../data/VPC-TMA/overlap_patches/'\n"
   ]
  },
  {
   "cell_type": "markdown",
   "metadata": {
    "id": "mUEUvDLIbLnw"
   },
   "source": [
    "# Import"
   ]
  },
  {
   "cell_type": "code",
   "execution_count": null,
   "metadata": {
    "id": "qQb9tJzebNW_"
   },
   "outputs": [],
   "source": [
    "import os\n",
    "from skimage import io\n",
    "import torch\n",
    "import torch.nn as nn\n",
    "import torchvision\n",
    "import torchvision.transforms as transforms\n",
    "from torch.utils.data import DataLoader, Dataset\n",
    "import matplotlib.pyplot as plt\n",
    "from IPython import display\n",
    "import numpy as np\n",
    "import pickle\n",
    "import cv2 as cv"
   ]
  },
  {
   "cell_type": "code",
   "execution_count": null,
   "metadata": {},
   "outputs": [],
   "source": [
    "from PIL import ImageFile\n",
    "ImageFile.LOAD_TRUNCATED_IMAGES = True"
   ]
  },
  {
   "cell_type": "markdown",
   "metadata": {},
   "source": [
    "# Model"
   ]
  },
  {
   "cell_type": "code",
   "execution_count": null,
   "metadata": {},
   "outputs": [],
   "source": [
    "class NN(torch.nn.Module):\n",
    "    def __init__(self, num_classes):\n",
    "        super().__init__()\n",
    "#         self.num_classes = num_classes\n",
    "        self.model = torchvision.models.resnet18(pretrained=True)\n",
    "        self.model.fc = nn.Sequential(nn.Linear(in_features=512, out_features=num_classes, bias=True, ))#,\n",
    "                        #  nn.ReLU(),\n",
    "                        #  nn.Linear(in_features=1000, out_features=num_classes, bias=True))\n",
    "#         self.model = torchvision.models.resnet50(pretrained=True)\n",
    "#         self.model.fc.out_features = num_classes\n",
    "#         self.model.fc = nn.Sequential(nn.Linear(in_features=2048, out_features=num_classes, bias=True, ))#,\n",
    "                        #  nn.ReLU(),\n",
    "                        #  nn.Linear(in_features=1000, out_features=num_classes, bias=True))\n",
    "#         print(self.model)\n",
    "\n",
    "    def forward(self, dictionary):\n",
    "        return {'label': self.model(dictionary['img'])}\n",
    "\n",
    "    def prediction(self, dictionary):\n",
    "        return {'label': torch.argmax(self.forward(dictionary)['label'], dim=1)}\n",
    "\n",
    "model = NN(num_classes=num_classes).cuda()\n",
    "model_parameters = filter(lambda p: p.requires_grad, model.parameters())\n",
    "params = sum([np.prod(p.size()) for p in model_parameters])\n",
    "print(params)\n",
    "# print(model)"
   ]
  },
  {
   "cell_type": "markdown",
   "metadata": {
    "id": "sH-6cE6oHyQD"
   },
   "source": [
    "# Utils"
   ]
  },
  {
   "cell_type": "code",
   "execution_count": null,
   "metadata": {
    "id": "h-w_nD4xGfGB"
   },
   "outputs": [],
   "source": [
    "# a function to move tensors from the CPU to the GPU\n",
    "def dict_to_device(orig, device):\n",
    "    new = {}\n",
    "    for k,v in orig.items():\n",
    "        new[k] = v.to(device)\n",
    "    return new\n",
    "\n",
    "def plotImage(img, ax=plt):\n",
    "    img_pil = torchvision.transforms.ToPILImage()(img)\n",
    "    img_size = torch.FloatTensor(img_pil.size)\n",
    "    ax.imshow(img_pil)\n",
    "\n",
    "def directory_maker(path):\n",
    "    if not os.path.exists(path):\n",
    "        os.mkdir(path)\n",
    "        \n",
    "def listdir_fullpath(d):\n",
    "    return [os.path.join(d, f) for f in os.listdir(d)]\n",
    "        \n",
    "def path_constructor(root_dir, embd_dir, magnifications, sizes):\n",
    "    dict_imgs_path = {mag: {core : [] for core in os.listdir(root_dir)} for mag in magnifications}\n",
    "    for core in os.listdir(root_dir):\n",
    "        embd_core_path = embd_dir + core + '/'\n",
    "        directory_maker(embd_core_path)\n",
    "        for size in sizes:\n",
    "            embd_size_path = embd_core_path + str(size) + '/'\n",
    "            directory_maker(embd_size_path)\n",
    "            for mag in magnifications:\n",
    "                embd_mag_path = embd_size_path + str(mag) + '/'\n",
    "                directory_maker(embd_mag_path)\n",
    "                dict_imgs_path[mag][core].extend(listdir_fullpath(root_dir + core + '/' + str(size) + '/' + str(mag) + '/'))\n",
    "    return dict_imgs_path\n",
    "    \n",
    "# dict_imgs = path_constructor(path_VPC, path_embeddings + fold + '/', [10, 20, 40], [patch_size])\n",
    "\n",
    "## get embeddings\n",
    "activation = {}\n",
    "def get_activation(name):\n",
    "    def hook(model, input, output):\n",
    "        activation[name] = output\n",
    "    return hook\n",
    "\n",
    "def load_model(model_dir, model_name, magnification, fold, embedding_layer):\n",
    "    # 'model/' + str(magnification) + '/' + fold  + '/aug_model'\n",
    "    model_path = model_dir + str(magnification) + '/' + fold + '/'\n",
    "    model_path = [model_path + f for f in os.listdir(model_path) if f.startswith(model_name)][0]\n",
    "    print(model_path)\n",
    "    checkpoint = torch.load(model_path)\n",
    "    model.load_state_dict(checkpoint['model_state_dict'])\n",
    "    model.model.avgpool.register_forward_hook(get_activation(embedding_layer)) # model.model\n",
    "    model.eval()\n",
    "    \n",
    "    return model\n",
    "\n",
    "# load_model(path_model, 'aug_model', magnification, fold)\n",
    "\n",
    "def save_embeddings(model, imgs_path, embd_dir, embedding_layer, model_name):\n",
    "    target_path = embd_dir + '/'.join(imgs_path[0].split('/')[-4:-1]) + '/' + model_name + '_' + embedding_layer + '.pkl'\n",
    "    if os.path.exists(target_path): \n",
    "        return\n",
    "    transform = transforms.ToTensor()\n",
    "    dict_embd = {img_path.split('/')[-1][:-4] : None for img_path in imgs_path}\n",
    "    for img_path in imgs_path:\n",
    "        if not img_path.endswith('.png'):\n",
    "            print(img_path)\n",
    "            continue\n",
    "        img = io.imread(img_path)\n",
    "        if img.shape[2] == 4: img = img[:,:,:3]\n",
    "        img = cv.resize(img, (256, 256), interpolation=cv.INTER_CUBIC) # input is 256x256!\n",
    "        img = transform(img)\n",
    "        dict_gpu = dict_to_device({'img': torch.unsqueeze(img, 0)}, 'cuda')\n",
    "        model(dict_gpu)\n",
    "        dict_embd[img_path.split('/')[-1][:-4]] = torch.squeeze(activation[embedding_layer]).cpu().detach().numpy()\n",
    "    with open(target_path, 'wb') as f:\n",
    "        pickle.dump(dict_embd, f)"
   ]
  },
  {
   "cell_type": "markdown",
   "metadata": {
    "id": "-_CRmJntGgwi"
   },
   "source": [
    "# Embeddings saver"
   ]
  },
  {
   "cell_type": "code",
   "execution_count": null,
   "metadata": {
    "id": "1LzS0KGzGiqg"
   },
   "outputs": [],
   "source": [
    "def get_embeddings_all(root_dir, embd_dir, model_dir, model_name, magnifications, folds, embedding_layer='avgpool', sizes=[512]):\n",
    "    for fold in folds:\n",
    "        dict_imgs_path = path_constructor(root_dir, embd_dir + fold + '/', magnifications, sizes)\n",
    "        print('{}: images loaded'.format(fold))\n",
    "        for magnification in magnifications:\n",
    "            model = load_model(path_model, model_name, magnification, fold, embedding_layer)\n",
    "            print('{}, magnification {}: model loaded'.format(fold, magnification))\n",
    "            model.eval()\n",
    "            cnt = 0\n",
    "            for core in dict_imgs_path[magnification]:\n",
    "                save_embeddings(model, dict_imgs_path[magnification][core], embd_dir + fold + '/', embedding_layer, model_name)\n",
    "                cnt += 1\n",
    "                if cnt % 100 == 0:\n",
    "                    print('{}, magnification {}: {}/1105 embeddings are saved'.format(fold, magnification, cnt))\n",
    "                \n",
    "get_embeddings_all(path_VPC, path_embeddings, path_model, model_name, magnifications, folds, sizes=[patch_size])"
   ]
  }
 ],
 "metadata": {
  "accelerator": "GPU",
  "colab": {
   "collapsed_sections": [],
   "name": "ResNet_baseline.ipynb",
   "provenance": []
  },
  "kernelspec": {
   "display_name": "Python 3 (ipykernel)",
   "language": "python",
   "name": "python3"
  },
  "language_info": {
   "codemirror_mode": {
    "name": "ipython",
    "version": 3
   },
   "file_extension": ".py",
   "mimetype": "text/x-python",
   "name": "python",
   "nbconvert_exporter": "python",
   "pygments_lexer": "ipython3",
   "version": "3.7.13"
  },
  "widgets": {
   "application/vnd.jupyter.widget-state+json": {
    "0b4c29892f0c4c0e9b7176b867aca14c": {
     "model_module": "@jupyter-widgets/controls",
     "model_module_version": "1.5.0",
     "model_name": "DescriptionStyleModel",
     "state": {
      "_model_module": "@jupyter-widgets/controls",
      "_model_module_version": "1.5.0",
      "_model_name": "DescriptionStyleModel",
      "_view_count": null,
      "_view_module": "@jupyter-widgets/base",
      "_view_module_version": "1.2.0",
      "_view_name": "StyleView",
      "description_width": ""
     }
    },
    "2969031089f34cbdbe70c405167673c2": {
     "model_module": "@jupyter-widgets/base",
     "model_module_version": "1.2.0",
     "model_name": "LayoutModel",
     "state": {
      "_model_module": "@jupyter-widgets/base",
      "_model_module_version": "1.2.0",
      "_model_name": "LayoutModel",
      "_view_count": null,
      "_view_module": "@jupyter-widgets/base",
      "_view_module_version": "1.2.0",
      "_view_name": "LayoutView",
      "align_content": null,
      "align_items": null,
      "align_self": null,
      "border": null,
      "bottom": null,
      "display": null,
      "flex": null,
      "flex_flow": null,
      "grid_area": null,
      "grid_auto_columns": null,
      "grid_auto_flow": null,
      "grid_auto_rows": null,
      "grid_column": null,
      "grid_gap": null,
      "grid_row": null,
      "grid_template_areas": null,
      "grid_template_columns": null,
      "grid_template_rows": null,
      "height": null,
      "justify_content": null,
      "justify_items": null,
      "left": null,
      "margin": null,
      "max_height": null,
      "max_width": null,
      "min_height": null,
      "min_width": null,
      "object_fit": null,
      "object_position": null,
      "order": null,
      "overflow": null,
      "overflow_x": null,
      "overflow_y": null,
      "padding": null,
      "right": null,
      "top": null,
      "visibility": null,
      "width": null
     }
    },
    "40b3dbde3e894eb78f45e9d2342aa714": {
     "model_module": "@jupyter-widgets/controls",
     "model_module_version": "1.5.0",
     "model_name": "FloatProgressModel",
     "state": {
      "_dom_classes": [],
      "_model_module": "@jupyter-widgets/controls",
      "_model_module_version": "1.5.0",
      "_model_name": "FloatProgressModel",
      "_view_count": null,
      "_view_module": "@jupyter-widgets/controls",
      "_view_module_version": "1.5.0",
      "_view_name": "ProgressView",
      "bar_style": "success",
      "description": "",
      "description_tooltip": null,
      "layout": "IPY_MODEL_cc24c5ac94e24a8b8d0e10d07142bf48",
      "max": 46830571,
      "min": 0,
      "orientation": "horizontal",
      "style": "IPY_MODEL_e26289495af6433dbf3d4c3f7c134945",
      "value": 46830571
     }
    },
    "5a1bbf7b9c904cb295cb486bddacd2f0": {
     "model_module": "@jupyter-widgets/controls",
     "model_module_version": "1.5.0",
     "model_name": "HTMLModel",
     "state": {
      "_dom_classes": [],
      "_model_module": "@jupyter-widgets/controls",
      "_model_module_version": "1.5.0",
      "_model_name": "HTMLModel",
      "_view_count": null,
      "_view_module": "@jupyter-widgets/controls",
      "_view_module_version": "1.5.0",
      "_view_name": "HTMLView",
      "description": "",
      "description_tooltip": null,
      "layout": "IPY_MODEL_8b13f258874e4d89bdf5640e70cdd3a4",
      "placeholder": "​",
      "style": "IPY_MODEL_ee13ea848e1c48f4958890da00770737",
      "value": "100%"
     }
    },
    "8b13f258874e4d89bdf5640e70cdd3a4": {
     "model_module": "@jupyter-widgets/base",
     "model_module_version": "1.2.0",
     "model_name": "LayoutModel",
     "state": {
      "_model_module": "@jupyter-widgets/base",
      "_model_module_version": "1.2.0",
      "_model_name": "LayoutModel",
      "_view_count": null,
      "_view_module": "@jupyter-widgets/base",
      "_view_module_version": "1.2.0",
      "_view_name": "LayoutView",
      "align_content": null,
      "align_items": null,
      "align_self": null,
      "border": null,
      "bottom": null,
      "display": null,
      "flex": null,
      "flex_flow": null,
      "grid_area": null,
      "grid_auto_columns": null,
      "grid_auto_flow": null,
      "grid_auto_rows": null,
      "grid_column": null,
      "grid_gap": null,
      "grid_row": null,
      "grid_template_areas": null,
      "grid_template_columns": null,
      "grid_template_rows": null,
      "height": null,
      "justify_content": null,
      "justify_items": null,
      "left": null,
      "margin": null,
      "max_height": null,
      "max_width": null,
      "min_height": null,
      "min_width": null,
      "object_fit": null,
      "object_position": null,
      "order": null,
      "overflow": null,
      "overflow_x": null,
      "overflow_y": null,
      "padding": null,
      "right": null,
      "top": null,
      "visibility": null,
      "width": null
     }
    },
    "b5b4b114bade4395952a717e239c6fcb": {
     "model_module": "@jupyter-widgets/controls",
     "model_module_version": "1.5.0",
     "model_name": "HBoxModel",
     "state": {
      "_dom_classes": [],
      "_model_module": "@jupyter-widgets/controls",
      "_model_module_version": "1.5.0",
      "_model_name": "HBoxModel",
      "_view_count": null,
      "_view_module": "@jupyter-widgets/controls",
      "_view_module_version": "1.5.0",
      "_view_name": "HBoxView",
      "box_style": "",
      "children": [
       "IPY_MODEL_5a1bbf7b9c904cb295cb486bddacd2f0",
       "IPY_MODEL_40b3dbde3e894eb78f45e9d2342aa714",
       "IPY_MODEL_d62ae91d208241eeb980c7b683cdff1b"
      ],
      "layout": "IPY_MODEL_2969031089f34cbdbe70c405167673c2"
     }
    },
    "cc24c5ac94e24a8b8d0e10d07142bf48": {
     "model_module": "@jupyter-widgets/base",
     "model_module_version": "1.2.0",
     "model_name": "LayoutModel",
     "state": {
      "_model_module": "@jupyter-widgets/base",
      "_model_module_version": "1.2.0",
      "_model_name": "LayoutModel",
      "_view_count": null,
      "_view_module": "@jupyter-widgets/base",
      "_view_module_version": "1.2.0",
      "_view_name": "LayoutView",
      "align_content": null,
      "align_items": null,
      "align_self": null,
      "border": null,
      "bottom": null,
      "display": null,
      "flex": null,
      "flex_flow": null,
      "grid_area": null,
      "grid_auto_columns": null,
      "grid_auto_flow": null,
      "grid_auto_rows": null,
      "grid_column": null,
      "grid_gap": null,
      "grid_row": null,
      "grid_template_areas": null,
      "grid_template_columns": null,
      "grid_template_rows": null,
      "height": null,
      "justify_content": null,
      "justify_items": null,
      "left": null,
      "margin": null,
      "max_height": null,
      "max_width": null,
      "min_height": null,
      "min_width": null,
      "object_fit": null,
      "object_position": null,
      "order": null,
      "overflow": null,
      "overflow_x": null,
      "overflow_y": null,
      "padding": null,
      "right": null,
      "top": null,
      "visibility": null,
      "width": null
     }
    },
    "d62ae91d208241eeb980c7b683cdff1b": {
     "model_module": "@jupyter-widgets/controls",
     "model_module_version": "1.5.0",
     "model_name": "HTMLModel",
     "state": {
      "_dom_classes": [],
      "_model_module": "@jupyter-widgets/controls",
      "_model_module_version": "1.5.0",
      "_model_name": "HTMLModel",
      "_view_count": null,
      "_view_module": "@jupyter-widgets/controls",
      "_view_module_version": "1.5.0",
      "_view_name": "HTMLView",
      "description": "",
      "description_tooltip": null,
      "layout": "IPY_MODEL_ecd2309de7dd41d290f9ed71e085e4d4",
      "placeholder": "​",
      "style": "IPY_MODEL_0b4c29892f0c4c0e9b7176b867aca14c",
      "value": " 44.7M/44.7M [00:00&lt;00:00, 180MB/s]"
     }
    },
    "e26289495af6433dbf3d4c3f7c134945": {
     "model_module": "@jupyter-widgets/controls",
     "model_module_version": "1.5.0",
     "model_name": "ProgressStyleModel",
     "state": {
      "_model_module": "@jupyter-widgets/controls",
      "_model_module_version": "1.5.0",
      "_model_name": "ProgressStyleModel",
      "_view_count": null,
      "_view_module": "@jupyter-widgets/base",
      "_view_module_version": "1.2.0",
      "_view_name": "StyleView",
      "bar_color": null,
      "description_width": ""
     }
    },
    "ecd2309de7dd41d290f9ed71e085e4d4": {
     "model_module": "@jupyter-widgets/base",
     "model_module_version": "1.2.0",
     "model_name": "LayoutModel",
     "state": {
      "_model_module": "@jupyter-widgets/base",
      "_model_module_version": "1.2.0",
      "_model_name": "LayoutModel",
      "_view_count": null,
      "_view_module": "@jupyter-widgets/base",
      "_view_module_version": "1.2.0",
      "_view_name": "LayoutView",
      "align_content": null,
      "align_items": null,
      "align_self": null,
      "border": null,
      "bottom": null,
      "display": null,
      "flex": null,
      "flex_flow": null,
      "grid_area": null,
      "grid_auto_columns": null,
      "grid_auto_flow": null,
      "grid_auto_rows": null,
      "grid_column": null,
      "grid_gap": null,
      "grid_row": null,
      "grid_template_areas": null,
      "grid_template_columns": null,
      "grid_template_rows": null,
      "height": null,
      "justify_content": null,
      "justify_items": null,
      "left": null,
      "margin": null,
      "max_height": null,
      "max_width": null,
      "min_height": null,
      "min_width": null,
      "object_fit": null,
      "object_position": null,
      "order": null,
      "overflow": null,
      "overflow_x": null,
      "overflow_y": null,
      "padding": null,
      "right": null,
      "top": null,
      "visibility": null,
      "width": null
     }
    },
    "ee13ea848e1c48f4958890da00770737": {
     "model_module": "@jupyter-widgets/controls",
     "model_module_version": "1.5.0",
     "model_name": "DescriptionStyleModel",
     "state": {
      "_model_module": "@jupyter-widgets/controls",
      "_model_module_version": "1.5.0",
      "_model_name": "DescriptionStyleModel",
      "_view_count": null,
      "_view_module": "@jupyter-widgets/base",
      "_view_module_version": "1.2.0",
      "_view_name": "StyleView",
      "description_width": ""
     }
    }
   }
  }
 },
 "nbformat": 4,
 "nbformat_minor": 4
}
